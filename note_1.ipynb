{
 "cells": [
  {
   "cell_type": "markdown",
   "metadata": {},
   "source": [
    "Irkutsk data getter"
   ]
  },
  {
   "cell_type": "code",
   "execution_count": 2,
   "metadata": {},
   "outputs": [],
   "source": [
    "import pandas as pd\n",
    "import numpy as np"
   ]
  },
  {
   "cell_type": "code",
   "execution_count": 3,
   "metadata": {},
   "outputs": [
    {
     "data": {
      "text/html": [
       "<div>\n",
       "<style scoped>\n",
       "    .dataframe tbody tr th:only-of-type {\n",
       "        vertical-align: middle;\n",
       "    }\n",
       "\n",
       "    .dataframe tbody tr th {\n",
       "        vertical-align: top;\n",
       "    }\n",
       "\n",
       "    .dataframe thead th {\n",
       "        text-align: right;\n",
       "    }\n",
       "</style>\n",
       "<table border=\"1\" class=\"dataframe\">\n",
       "  <thead>\n",
       "    <tr style=\"text-align: right;\">\n",
       "      <th></th>\n",
       "      <th>pressure</th>\n",
       "      <th>date</th>\n",
       "      <th>time</th>\n",
       "      <th>humidity</th>\n",
       "      <th>ambient_temperature</th>\n",
       "      <th>amperage</th>\n",
       "      <th>wind_speed</th>\n",
       "      <th>imager_temperature</th>\n",
       "    </tr>\n",
       "  </thead>\n",
       "  <tbody>\n",
       "    <tr>\n",
       "      <th>0</th>\n",
       "      <td>976.1</td>\n",
       "      <td>13.04.2023</td>\n",
       "      <td>13:59</td>\n",
       "      <td>30.4</td>\n",
       "      <td>2.0</td>\n",
       "      <td>334.3676</td>\n",
       "      <td>0.0</td>\n",
       "      <td>11.9</td>\n",
       "    </tr>\n",
       "    <tr>\n",
       "      <th>42</th>\n",
       "      <td>974.1</td>\n",
       "      <td>13.04.2023</td>\n",
       "      <td>16:48</td>\n",
       "      <td>31.4</td>\n",
       "      <td>3.1</td>\n",
       "      <td>254.6438</td>\n",
       "      <td>1.1</td>\n",
       "      <td>8.6</td>\n",
       "    </tr>\n",
       "    <tr>\n",
       "      <th>90</th>\n",
       "      <td>974.1</td>\n",
       "      <td>13.04.2023</td>\n",
       "      <td>16:49</td>\n",
       "      <td>30.1</td>\n",
       "      <td>3.0</td>\n",
       "      <td>258.6109</td>\n",
       "      <td>1.4</td>\n",
       "      <td>8.4</td>\n",
       "    </tr>\n",
       "    <tr>\n",
       "      <th>107</th>\n",
       "      <td>976.5</td>\n",
       "      <td>13.04.2023</td>\n",
       "      <td>13:14</td>\n",
       "      <td>33.7</td>\n",
       "      <td>1.0</td>\n",
       "      <td>377.8762</td>\n",
       "      <td>2.4</td>\n",
       "      <td>7.1</td>\n",
       "    </tr>\n",
       "    <tr>\n",
       "      <th>144</th>\n",
       "      <td>976.5</td>\n",
       "      <td>13.04.2023</td>\n",
       "      <td>13:15</td>\n",
       "      <td>33.6</td>\n",
       "      <td>0.9</td>\n",
       "      <td>375.0806</td>\n",
       "      <td>2.7</td>\n",
       "      <td>6.3</td>\n",
       "    </tr>\n",
       "  </tbody>\n",
       "</table>\n",
       "</div>"
      ],
      "text/plain": [
       "     pressure        date   time  humidity  ambient_temperature  amperage  \\\n",
       "0       976.1  13.04.2023  13:59      30.4                  2.0  334.3676   \n",
       "42      974.1  13.04.2023  16:48      31.4                  3.1  254.6438   \n",
       "90      974.1  13.04.2023  16:49      30.1                  3.0  258.6109   \n",
       "107     976.5  13.04.2023  13:14      33.7                  1.0  377.8762   \n",
       "144     976.5  13.04.2023  13:15      33.6                  0.9  375.0806   \n",
       "\n",
       "     wind_speed  imager_temperature  \n",
       "0           0.0                11.9  \n",
       "42          1.1                 8.6  \n",
       "90          1.4                 8.4  \n",
       "107         2.4                 7.1  \n",
       "144         2.7                 6.3  "
      ]
     },
     "execution_count": 3,
     "metadata": {},
     "output_type": "execute_result"
    }
   ],
   "source": [
    "csv_data = pd.read_csv(r'irk_data/thermal_imager.csv', sep=',')\n",
    "csv_data = csv_data.loc[csv_data['node'] == 54]\n",
    "csv_data = csv_data.drop(['node'], axis=1)\n",
    "csv_data.head()\n"
   ]
  },
  {
   "cell_type": "code",
   "execution_count": 73,
   "metadata": {},
   "outputs": [
    {
     "ename": "KeyError",
     "evalue": "'wind_speed'",
     "output_type": "error",
     "traceback": [
      "\u001b[1;31m---------------------------------------------------------------------------\u001b[0m",
      "\u001b[1;31mKeyError\u001b[0m                                  Traceback (most recent call last)",
      "File \u001b[1;32mc:\\Python311\\Lib\\site-packages\\pandas\\core\\indexes\\base.py:3652\u001b[0m, in \u001b[0;36mIndex.get_loc\u001b[1;34m(self, key)\u001b[0m\n\u001b[0;32m   3651\u001b[0m \u001b[38;5;28;01mtry\u001b[39;00m:\n\u001b[1;32m-> 3652\u001b[0m     \u001b[38;5;28;01mreturn\u001b[39;00m \u001b[38;5;28;43mself\u001b[39;49m\u001b[38;5;241;43m.\u001b[39;49m\u001b[43m_engine\u001b[49m\u001b[38;5;241;43m.\u001b[39;49m\u001b[43mget_loc\u001b[49m\u001b[43m(\u001b[49m\u001b[43mcasted_key\u001b[49m\u001b[43m)\u001b[49m\n\u001b[0;32m   3653\u001b[0m \u001b[38;5;28;01mexcept\u001b[39;00m \u001b[38;5;167;01mKeyError\u001b[39;00m \u001b[38;5;28;01mas\u001b[39;00m err:\n",
      "File \u001b[1;32mc:\\Python311\\Lib\\site-packages\\pandas\\_libs\\index.pyx:147\u001b[0m, in \u001b[0;36mpandas._libs.index.IndexEngine.get_loc\u001b[1;34m()\u001b[0m\n",
      "File \u001b[1;32mc:\\Python311\\Lib\\site-packages\\pandas\\_libs\\index.pyx:176\u001b[0m, in \u001b[0;36mpandas._libs.index.IndexEngine.get_loc\u001b[1;34m()\u001b[0m\n",
      "File \u001b[1;32mpandas\\_libs\\hashtable_class_helper.pxi:7080\u001b[0m, in \u001b[0;36mpandas._libs.hashtable.PyObjectHashTable.get_item\u001b[1;34m()\u001b[0m\n",
      "File \u001b[1;32mpandas\\_libs\\hashtable_class_helper.pxi:7088\u001b[0m, in \u001b[0;36mpandas._libs.hashtable.PyObjectHashTable.get_item\u001b[1;34m()\u001b[0m\n",
      "\u001b[1;31mKeyError\u001b[0m: 'wind_speed'",
      "\nThe above exception was the direct cause of the following exception:\n",
      "\u001b[1;31mKeyError\u001b[0m                                  Traceback (most recent call last)",
      "Cell \u001b[1;32mIn[73], line 1\u001b[0m\n\u001b[1;32m----> 1\u001b[0m csv_data\u001b[38;5;241m.\u001b[39mdrop(csv_data[\u001b[43mcsv_data\u001b[49m\u001b[43m[\u001b[49m\u001b[38;5;124;43m'\u001b[39;49m\u001b[38;5;124;43mwind_speed\u001b[39;49m\u001b[38;5;124;43m'\u001b[39;49m\u001b[43m]\u001b[49m \u001b[38;5;241m>\u001b[39m \u001b[38;5;241m1.0\u001b[39m]\u001b[38;5;241m.\u001b[39mindex, inplace \u001b[38;5;241m=\u001b[39m \u001b[38;5;28;01mTrue\u001b[39;00m)\n\u001b[0;32m      2\u001b[0m csv_data\u001b[38;5;241m.\u001b[39mdrop(csv_data[csv_data[\u001b[38;5;124m'\u001b[39m\u001b[38;5;124mimager_temperature\u001b[39m\u001b[38;5;124m'\u001b[39m] \u001b[38;5;241m-\u001b[39m csv_data[\u001b[38;5;124m'\u001b[39m\u001b[38;5;124mambient_temperature\u001b[39m\u001b[38;5;124m'\u001b[39m] \u001b[38;5;241m>\u001b[39m \u001b[38;5;241m15.0\u001b[39m]\u001b[38;5;241m.\u001b[39mindex, inplace \u001b[38;5;241m=\u001b[39m \u001b[38;5;28;01mTrue\u001b[39;00m)\n\u001b[0;32m      3\u001b[0m csv_data\u001b[38;5;241m.\u001b[39msize\n",
      "File \u001b[1;32mc:\\Python311\\Lib\\site-packages\\pandas\\core\\frame.py:3761\u001b[0m, in \u001b[0;36mDataFrame.__getitem__\u001b[1;34m(self, key)\u001b[0m\n\u001b[0;32m   3759\u001b[0m \u001b[38;5;28;01mif\u001b[39;00m \u001b[38;5;28mself\u001b[39m\u001b[38;5;241m.\u001b[39mcolumns\u001b[38;5;241m.\u001b[39mnlevels \u001b[38;5;241m>\u001b[39m \u001b[38;5;241m1\u001b[39m:\n\u001b[0;32m   3760\u001b[0m     \u001b[38;5;28;01mreturn\u001b[39;00m \u001b[38;5;28mself\u001b[39m\u001b[38;5;241m.\u001b[39m_getitem_multilevel(key)\n\u001b[1;32m-> 3761\u001b[0m indexer \u001b[38;5;241m=\u001b[39m \u001b[38;5;28;43mself\u001b[39;49m\u001b[38;5;241;43m.\u001b[39;49m\u001b[43mcolumns\u001b[49m\u001b[38;5;241;43m.\u001b[39;49m\u001b[43mget_loc\u001b[49m\u001b[43m(\u001b[49m\u001b[43mkey\u001b[49m\u001b[43m)\u001b[49m\n\u001b[0;32m   3762\u001b[0m \u001b[38;5;28;01mif\u001b[39;00m is_integer(indexer):\n\u001b[0;32m   3763\u001b[0m     indexer \u001b[38;5;241m=\u001b[39m [indexer]\n",
      "File \u001b[1;32mc:\\Python311\\Lib\\site-packages\\pandas\\core\\indexes\\base.py:3654\u001b[0m, in \u001b[0;36mIndex.get_loc\u001b[1;34m(self, key)\u001b[0m\n\u001b[0;32m   3652\u001b[0m     \u001b[38;5;28;01mreturn\u001b[39;00m \u001b[38;5;28mself\u001b[39m\u001b[38;5;241m.\u001b[39m_engine\u001b[38;5;241m.\u001b[39mget_loc(casted_key)\n\u001b[0;32m   3653\u001b[0m \u001b[38;5;28;01mexcept\u001b[39;00m \u001b[38;5;167;01mKeyError\u001b[39;00m \u001b[38;5;28;01mas\u001b[39;00m err:\n\u001b[1;32m-> 3654\u001b[0m     \u001b[38;5;28;01mraise\u001b[39;00m \u001b[38;5;167;01mKeyError\u001b[39;00m(key) \u001b[38;5;28;01mfrom\u001b[39;00m \u001b[38;5;21;01merr\u001b[39;00m\n\u001b[0;32m   3655\u001b[0m \u001b[38;5;28;01mexcept\u001b[39;00m \u001b[38;5;167;01mTypeError\u001b[39;00m:\n\u001b[0;32m   3656\u001b[0m     \u001b[38;5;66;03m# If we have a listlike key, _check_indexing_error will raise\u001b[39;00m\n\u001b[0;32m   3657\u001b[0m     \u001b[38;5;66;03m#  InvalidIndexError. Otherwise we fall through and re-raise\u001b[39;00m\n\u001b[0;32m   3658\u001b[0m     \u001b[38;5;66;03m#  the TypeError.\u001b[39;00m\n\u001b[0;32m   3659\u001b[0m     \u001b[38;5;28mself\u001b[39m\u001b[38;5;241m.\u001b[39m_check_indexing_error(key)\n",
      "\u001b[1;31mKeyError\u001b[0m: 'wind_speed'"
     ]
    }
   ],
   "source": [
    "\n",
    "csv_data.drop(csv_data[csv_data['wind_speed'] > 1.0].index, inplace = True)\n",
    "csv_data.drop(csv_data[csv_data['imager_temperature'] - csv_data['ambient_temperature'] > 15.0].index, inplace = True)\n",
    "csv_data.size"
   ]
  },
  {
   "cell_type": "code",
   "execution_count": 74,
   "metadata": {},
   "outputs": [
    {
     "name": "stdout",
     "output_type": "stream",
     "text": [
      "0\n",
      "31\n",
      "59\n",
      "90\n",
      "120\n",
      "151\n",
      "181\n",
      "212\n",
      "243\n",
      "273\n",
      "304\n",
      "334\n"
     ]
    }
   ],
   "source": [
    "days_in_month = [0,                                                           # 1\n",
    "                 31,                                                          # 2\n",
    "                 31 + 28,                                                     # 3\n",
    "                 31 + 28 + 31,                                                # 4\n",
    "                 31 + 28 + 31 + 30,                                           # 5\n",
    "                 31 + 28 + 31 + 30 + 31,                                      # 6\n",
    "                 31 + 28 + 31 + 30 + 31 + 30,                                 # 7\n",
    "                 31 + 28 + 31 + 30 + 31 + 30 + 31,                            # 8\n",
    "                 31 + 28 + 31 + 30 + 31 + 30 + 31 + 31,                       # 9\n",
    "                 31 + 28 + 31 + 30 + 31 + 30 + 31 + 31 + 30,                  # 10\n",
    "                 31 + 28 + 31 + 30 + 31 + 30 + 31 + 31 + 30 + 31,             # 11\n",
    "                 31 + 28 + 31 + 30 + 31 + 30 + 31 + 31 + 30 + 31 + 30,        # 12\n",
    "                 ]\n",
    "for days in days_in_month:\n",
    "    print(days)"
   ]
  },
  {
   "cell_type": "code",
   "execution_count": 75,
   "metadata": {},
   "outputs": [],
   "source": [
    "np_data = csv_data.to_numpy()"
   ]
  },
  {
   "cell_type": "code",
   "execution_count": 76,
   "metadata": {},
   "outputs": [
    {
     "ename": "AttributeError",
     "evalue": "'numpy.float64' object has no attribute 'split'",
     "output_type": "error",
     "traceback": [
      "\u001b[1;31m---------------------------------------------------------------------------\u001b[0m",
      "\u001b[1;31mAttributeError\u001b[0m                            Traceback (most recent call last)",
      "Cell \u001b[1;32mIn[76], line 5\u001b[0m\n\u001b[0;32m      2\u001b[0m date_str \u001b[38;5;241m=\u001b[39m sheet[\u001b[38;5;241m1\u001b[39m]\n\u001b[0;32m      3\u001b[0m time_str \u001b[38;5;241m=\u001b[39m sheet[\u001b[38;5;241m2\u001b[39m]\n\u001b[1;32m----> 5\u001b[0m splited_date \u001b[38;5;241m=\u001b[39m \u001b[43mdate_str\u001b[49m\u001b[38;5;241;43m.\u001b[39;49m\u001b[43msplit\u001b[49m(\u001b[38;5;124m'\u001b[39m\u001b[38;5;124m.\u001b[39m\u001b[38;5;124m'\u001b[39m)\n\u001b[0;32m      6\u001b[0m splited_time \u001b[38;5;241m=\u001b[39m time_str\u001b[38;5;241m.\u001b[39msplit(\u001b[38;5;124m'\u001b[39m\u001b[38;5;124m:\u001b[39m\u001b[38;5;124m'\u001b[39m)\n\u001b[0;32m      8\u001b[0m new_date \u001b[38;5;241m=\u001b[39m days_in_month[\u001b[38;5;28mint\u001b[39m(splited_date[\u001b[38;5;241m1\u001b[39m]) \u001b[38;5;241m-\u001b[39m \u001b[38;5;241m1\u001b[39m] \u001b[38;5;241m+\u001b[39m \u001b[38;5;28mint\u001b[39m(splited_date[\u001b[38;5;241m0\u001b[39m])\n",
      "\u001b[1;31mAttributeError\u001b[0m: 'numpy.float64' object has no attribute 'split'"
     ]
    }
   ],
   "source": [
    "for sheet in np_data:\n",
    "    date_str = sheet[1]\n",
    "    time_str = sheet[2]\n",
    "    \n",
    "    splited_date = date_str.split('.')\n",
    "    splited_time = time_str.split(':')\n",
    "    \n",
    "    new_date = days_in_month[int(splited_date[1]) - 1] + int(splited_date[0])\n",
    "    new_time = int(splited_time[1]) / 60 + int(splited_time[0])\n",
    "    \n",
    "    sheet[1] = new_date / 365\n",
    "    sheet[2] = new_time / 24\n",
    "    \n",
    "print(np_data)"
   ]
  },
  {
   "cell_type": "code",
   "execution_count": 82,
   "metadata": {},
   "outputs": [
    {
     "name": "stdout",
     "output_type": "stream",
     "text": [
      "[[ 0.13888889  0.763       0.297      ...  0.16        0.585\n",
      "  10.2       ]\n",
      " [ 0.06944444  0.763       0.287      ...  0.05        0.5925\n",
      "  11.5       ]\n",
      " [ 0.06944444  0.761       0.314      ...  0.24        0.59083333\n",
      "  10.6       ]\n",
      " ...\n",
      " [ 0.27777778  0.731       0.933      ...  0.26        0.53833333\n",
      "   4.8       ]\n",
      " [ 0.34722222  0.733       0.935      ...  0.23        0.54\n",
      "   4.6       ]\n",
      " [ 0.06944444  0.733       0.93       ...  0.22        0.53833333\n",
      "   4.6       ]]\n"
     ]
    }
   ],
   "source": [
    "i = 1\n",
    "indexes = []\n",
    "res = []\n",
    "while i < len(np_data):\n",
    "    if abs(np_data[i][-1] - np_data[i-1][-1]) > 0.5 and np_data[i][2] - np_data[i-1][2] < 0.15:\n",
    "        indexes.append(i)\n",
    "    elif abs(np_data[i][-1] - np_data[i-1][-1]) > 1.:\n",
    "        indexes.append(i)\n",
    "    else:\n",
    "        res.append(np_data[i])\n",
    "    i += 1\n",
    "    \n",
    "np_data = np.asarray(res)\n",
    "print(np_data)"
   ]
  },
  {
   "cell_type": "code",
   "execution_count": 83,
   "metadata": {},
   "outputs": [
    {
     "name": "stdout",
     "output_type": "stream",
     "text": [
      "[[[ 1.00000000e+00 -8.99930556e+00  5.18333333e-03 ...  5.00000000e-05\n",
      "    5.92500000e-02  5.85000000e-01]]\n",
      "\n",
      " [[ 2.70000000e+00 -8.99930556e+00  5.14166667e-03 ...  2.40000000e-04\n",
      "    5.90833333e-02  5.95833333e-01]]\n",
      "\n",
      " [[ 9.00000000e-01 -8.99930556e+00  5.10000000e-03 ...  3.30000000e-04\n",
      "    5.34166667e-02  5.88333333e-01]]\n",
      "\n",
      " ...\n",
      "\n",
      " [[ 3.00000000e-01 -8.99722222e+00  5.17500000e-03 ...  2.60000000e-04\n",
      "    5.38333333e-02  5.38333333e-01]]\n",
      "\n",
      " [[ 2.00000000e-01 -8.99652778e+00  5.18333333e-03 ...  2.30000000e-04\n",
      "    5.40000000e-02  5.40000000e-01]]\n",
      "\n",
      " [[ 5.00000000e-01 -8.99930556e+00  5.18333333e-03 ...  2.20000000e-04\n",
      "    5.38333333e-02  5.38333333e-01]]] [[11.5]\n",
      " [10.6]\n",
      " [ 4.4]\n",
      " ...\n",
      " [ 4.8]\n",
      " [ 4.6]\n",
      " [ 4.6]]\n"
     ]
    }
   ],
   "source": [
    "x = []\n",
    "y = []\n",
    "for i in range(1, len(np_data)):\n",
    "    prev_sheet = np_data[i - 1]\n",
    "    sheet = np_data[i]\n",
    "    pressure = ( sheet[0] - 900 ) / 100\n",
    "    humidity = sheet[3] / 100\n",
    "    ambient_temperature = (sheet[4]+60) / 120\n",
    "    amperage = sheet[5] / 1000\n",
    "    wind_speed = sheet[6] / 10\n",
    "    prev_temp = (prev_sheet[-1]+60) / 120\n",
    "    delta = sheet[2] - prev_sheet[2]\n",
    "    interval = min(1 + delta, abs(delta)) * 100\n",
    "    targetTemp = sheet[7]\n",
    "    \n",
    "    x.append(np.asarray([[interval, pressure, humidity, ambient_temperature, amperage, wind_speed, prev_temp]]))\n",
    "    y.append(np.asarray([targetTemp]))\n",
    "\n",
    "x = np.asarray(x)\n",
    "y = np.asarray(y)\n",
    "print(x, y)"
   ]
  },
  {
   "cell_type": "code",
   "execution_count": 84,
   "metadata": {},
   "outputs": [],
   "source": [
    "from ClassModules import *"
   ]
  },
  {
   "cell_type": "code",
   "execution_count": 85,
   "metadata": {},
   "outputs": [
    {
     "name": "stdout",
     "output_type": "stream",
     "text": [
      "mean_squared_error\n"
     ]
    }
   ],
   "source": [
    "model = Sequential('adam', ALPHA=0.00015, type_='mean_squared_error')\n",
    "model.add(Dense(72, linear, input_shape=7))\n",
    "model.add(Dense(32, sin))\n",
    "model.add(Dense(16, backLinear))\n",
    "model.add(Dense(64, linear))\n",
    "model.add(Dense(1, linear))"
   ]
  },
  {
   "cell_type": "code",
   "execution_count": 86,
   "metadata": {},
   "outputs": [
    {
     "name": "stdout",
     "output_type": "stream",
     "text": [
      "[array([[ 1.00000000e+00, -8.99930556e+00,  5.18333333e-03,\n",
      "         5.02610338e-01,  5.00000000e-05,  5.92500000e-02,\n",
      "         5.85000000e-01]]), array([11.5])]\n"
     ]
    }
   ],
   "source": [
    "dataset = []\n",
    "res = []\n",
    "for i in range(len(x)):\n",
    "    dataset.append([x[i], y[i]])\n",
    "    res.append([x[i][0][0],\n",
    "                x[i][0][1],\n",
    "                x[i][0][2],\n",
    "                x[i][0][3],\n",
    "                x[i][0][4],\n",
    "                x[i][0][5],\n",
    "                x[i][0][6],\n",
    "                y[i][0]])\n",
    "res = np.asarray(res)\n",
    "np.savetxt('node_54.csv', res, delimiter=\",\")\n",
    "print(dataset[0])  \n",
    "\n",
    "\n",
    "    "
   ]
  },
  {
   "cell_type": "code",
   "execution_count": 72,
   "metadata": {},
   "outputs": [
    {
     "data": {
      "text/html": [
       "<div>\n",
       "<style scoped>\n",
       "    .dataframe tbody tr th:only-of-type {\n",
       "        vertical-align: middle;\n",
       "    }\n",
       "\n",
       "    .dataframe tbody tr th {\n",
       "        vertical-align: top;\n",
       "    }\n",
       "\n",
       "    .dataframe thead th {\n",
       "        text-align: right;\n",
       "    }\n",
       "</style>\n",
       "<table border=\"1\" class=\"dataframe\">\n",
       "  <thead>\n",
       "    <tr style=\"text-align: right;\">\n",
       "      <th></th>\n",
       "      <th>6.944444444444419773e-02</th>\n",
       "      <th>7.629999999999995675e-01</th>\n",
       "      <th>3.069999999999999951e-01</th>\n",
       "      <th>5.100000000000000089e-01</th>\n",
       "      <th>3.464937000000000156e-01</th>\n",
       "      <th>2.500000000000000000e-01</th>\n",
       "      <th>5.841666666666666119e-01</th>\n",
       "      <th>9.800000000000000711e+00</th>\n",
       "    </tr>\n",
       "  </thead>\n",
       "  <tbody>\n",
       "    <tr>\n",
       "      <th>0</th>\n",
       "      <td>0.208333</td>\n",
       "      <td>0.763</td>\n",
       "      <td>0.298</td>\n",
       "      <td>0.511667</td>\n",
       "      <td>0.348766</td>\n",
       "      <td>0.09</td>\n",
       "      <td>0.581667</td>\n",
       "      <td>10.6</td>\n",
       "    </tr>\n",
       "    <tr>\n",
       "      <th>1</th>\n",
       "      <td>0.069444</td>\n",
       "      <td>0.763</td>\n",
       "      <td>0.297</td>\n",
       "      <td>0.510000</td>\n",
       "      <td>0.354818</td>\n",
       "      <td>0.10</td>\n",
       "      <td>0.588333</td>\n",
       "      <td>10.2</td>\n",
       "    </tr>\n",
       "    <tr>\n",
       "      <th>2</th>\n",
       "      <td>0.138889</td>\n",
       "      <td>0.763</td>\n",
       "      <td>0.297</td>\n",
       "      <td>0.512500</td>\n",
       "      <td>0.351677</td>\n",
       "      <td>0.16</td>\n",
       "      <td>0.585000</td>\n",
       "      <td>10.2</td>\n",
       "    </tr>\n",
       "    <tr>\n",
       "      <th>3</th>\n",
       "      <td>0.555556</td>\n",
       "      <td>0.763</td>\n",
       "      <td>0.302</td>\n",
       "      <td>0.516667</td>\n",
       "      <td>0.311530</td>\n",
       "      <td>0.13</td>\n",
       "      <td>0.585000</td>\n",
       "      <td>11.1</td>\n",
       "    </tr>\n",
       "    <tr>\n",
       "      <th>4</th>\n",
       "      <td>0.069444</td>\n",
       "      <td>0.763</td>\n",
       "      <td>0.287</td>\n",
       "      <td>0.518333</td>\n",
       "      <td>0.313241</td>\n",
       "      <td>0.05</td>\n",
       "      <td>0.592500</td>\n",
       "      <td>11.5</td>\n",
       "    </tr>\n",
       "  </tbody>\n",
       "</table>\n",
       "</div>"
      ],
      "text/plain": [
       "   6.944444444444419773e-02  7.629999999999995675e-01  \\\n",
       "0                  0.208333                     0.763   \n",
       "1                  0.069444                     0.763   \n",
       "2                  0.138889                     0.763   \n",
       "3                  0.555556                     0.763   \n",
       "4                  0.069444                     0.763   \n",
       "\n",
       "   3.069999999999999951e-01  5.100000000000000089e-01  \\\n",
       "0                     0.298                  0.511667   \n",
       "1                     0.297                  0.510000   \n",
       "2                     0.297                  0.512500   \n",
       "3                     0.302                  0.516667   \n",
       "4                     0.287                  0.518333   \n",
       "\n",
       "   3.464937000000000156e-01  2.500000000000000000e-01  \\\n",
       "0                  0.348766                      0.09   \n",
       "1                  0.354818                      0.10   \n",
       "2                  0.351677                      0.16   \n",
       "3                  0.311530                      0.13   \n",
       "4                  0.313241                      0.05   \n",
       "\n",
       "   5.841666666666666119e-01  9.800000000000000711e+00  \n",
       "0                  0.581667                      10.6  \n",
       "1                  0.588333                      10.2  \n",
       "2                  0.585000                      10.2  \n",
       "3                  0.585000                      11.1  \n",
       "4                  0.592500                      11.5  "
      ]
     },
     "execution_count": 72,
     "metadata": {},
     "output_type": "execute_result"
    }
   ],
   "source": [
    "csv_data = pd.read_csv(r'node_54.csv', sep=',')\n",
    "csv_data.head()"
   ]
  },
  {
   "cell_type": "code",
   "execution_count": 160,
   "metadata": {},
   "outputs": [
    {
     "data": {
      "text/plain": [
       "([], [])"
      ]
     },
     "execution_count": 160,
     "metadata": {},
     "output_type": "execute_result"
    }
   ],
   "source": [
    "model.train(dataset, 500, False, False, 512)"
   ]
  },
  {
   "cell_type": "code",
   "execution_count": 161,
   "metadata": {},
   "outputs": [],
   "source": [
    "y_res = [model.predict(dataset[i][0])[0][0] for i in range(len(dataset))]"
   ]
  },
  {
   "cell_type": "code",
   "execution_count": 162,
   "metadata": {},
   "outputs": [
    {
     "data": {
      "image/png": "[encoded data removed]",
      "text/plain": [
       "<Figure size 640x480 with 1 Axes>"
      ]
     },
     "metadata": {},
     "output_type": "display_data"
    }
   ],
   "source": [
    "import matplotlib.pyplot as plt\n",
    "plt.plot(y, label='target')\n",
    "plt.plot(y_res, label='result')\n",
    "plt.legend(fontsize=16)\n",
    "plt.minorticks_on()\n",
    "plt.show()"
   ]
  },
  {
   "cell_type": "code",
   "execution_count": null,
   "metadata": {},
   "outputs": [],
   "source": []
  }
 ],
 "metadata": {
  "kernelspec": {
   "display_name": "Python 3",
   "language": "python",
   "name": "python3"
  },
  "language_info": {
   "codemirror_mode": {
    "name": "ipython",
    "version": 3
   },
   "file_extension": ".py",
   "mimetype": "text/x-python",
   "name": "python",
   "nbconvert_exporter": "python",
   "pygments_lexer": "ipython3",
   "version": "3.11.3"
  }
 },
 "nbformat": 4,
 "nbformat_minor": 2
}
