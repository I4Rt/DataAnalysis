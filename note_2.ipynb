{
 "cells": [
  {
   "cell_type": "code",
   "execution_count": 2,
   "metadata": {},
   "outputs": [],
   "source": [
    "# Print iterations progress\n",
    "def printProgressBar (iteration, total, prefix = '', suffix = '', decimals = 1, length = 100, fill = '█', printEnd = \"\\r\"):\n",
    "    \"\"\"\n",
    "    Call in a loop to create terminal progress bar\n",
    "    @params:\n",
    "        iteration   - Required  : current iteration (Int)\n",
    "        total       - Required  : total iterations (Int)\n",
    "        prefix      - Optional  : prefix string (Str)\n",
    "        suffix      - Optional  : suffix string (Str)\n",
    "        decimals    - Optional  : positive number of decimals in percent complete (Int)\n",
    "        length      - Optional  : character length of bar (Int)\n",
    "        fill        - Optional  : bar fill character (Str)\n",
    "        printEnd    - Optional  : end character (e.g. \"\\r\", \"\\r\\n\") (Str)\n",
    "    \"\"\"\n",
    "    percent = (\"{0:.\" + str(decimals) + \"f}\").format(100 * (iteration / float(total)))\n",
    "    filledLength = int(length * iteration // total)\n",
    "    bar = fill * filledLength + '-' * (length - filledLength)\n",
    "    print(f'\\r{prefix} |{bar}| {percent}% {suffix}', end = printEnd)\n",
    "    # Print New Line on Complete\n",
    "    if iteration == total: \n",
    "        print()"
   ]
  },
  {
   "cell_type": "code",
   "execution_count": 4,
   "metadata": {},
   "outputs": [
    {
     "name": "stdout",
     "output_type": "stream",
     "text": [
      "0 0gress: |--------------------------------------------------| 0.0% Complete\n",
      "1 1gress: |--------------------------------------------------| 1.8% Complete\n",
      "2 2gress: |█-------------------------------------------------| 3.5% Complete\n",
      "3 3gress: |██------------------------------------------------| 5.3% Complete\n",
      "4 4gress: |███-----------------------------------------------| 7.0% Complete\n",
      "5 5gress: |████----------------------------------------------| 8.8% Complete\n",
      "6 6gress: |█████---------------------------------------------| 10.5% Complete\n",
      "7 7gress: |██████--------------------------------------------| 12.3% Complete\n",
      "8 8gress: |███████-------------------------------------------| 14.0% Complete\n",
      "9 9gress: |███████-------------------------------------------| 15.8% Complete\n",
      "10 10ess: |████████------------------------------------------| 17.5% Complete\n",
      "11 11ess: |█████████-----------------------------------------| 19.3% Complete\n",
      "12 12ess: |██████████----------------------------------------| 21.1% Complete\n",
      "13 13ess: |███████████---------------------------------------| 22.8% Complete\n",
      "14 14ess: |████████████--------------------------------------| 24.6% Complete\n",
      "15 15ess: |█████████████-------------------------------------| 26.3% Complete\n",
      "16 16ess: |██████████████------------------------------------| 28.1% Complete\n",
      "17 17ess: |██████████████------------------------------------| 29.8% Complete\n",
      "18 18ess: |███████████████-----------------------------------| 31.6% Complete\n",
      "19 19ess: |████████████████----------------------------------| 33.3% Complete\n",
      "20 20ess: |█████████████████---------------------------------| 35.1% Complete\n",
      "21 21ess: |██████████████████--------------------------------| 36.8% Complete\n",
      "22 22ess: |███████████████████-------------------------------| 38.6% Complete\n",
      "23 23ess: |████████████████████------------------------------| 40.4% Complete\n",
      "24 24ess: |█████████████████████-----------------------------| 42.1% Complete\n",
      "25 25ess: |█████████████████████-----------------------------| 43.9% Complete\n",
      "26 26ess: |██████████████████████----------------------------| 45.6% Complete\n",
      "27 27ess: |███████████████████████---------------------------| 47.4% Complete\n",
      "28 28ess: |████████████████████████--------------------------| 49.1% Complete\n",
      "29 29ess: |█████████████████████████-------------------------| 50.9% Complete\n",
      "30 30ess: |██████████████████████████------------------------| 52.6% Complete\n",
      "31 31ess: |███████████████████████████-----------------------| 54.4% Complete\n",
      "32 32ess: |████████████████████████████----------------------| 56.1% Complete\n",
      "33 33ess: |████████████████████████████----------------------| 57.9% Complete\n",
      "34 34ess: |█████████████████████████████---------------------| 59.6% Complete\n",
      "35 35ess: |██████████████████████████████--------------------| 61.4% Complete\n",
      "36 36ess: |███████████████████████████████-------------------| 63.2% Complete\n",
      "37 37ess: |████████████████████████████████------------------| 64.9% Complete\n",
      "38 38ess: |█████████████████████████████████-----------------| 66.7% Complete\n",
      "39 39ess: |██████████████████████████████████----------------| 68.4% Complete\n",
      "40 40ess: |███████████████████████████████████---------------| 70.2% Complete\n",
      "41 41ess: |███████████████████████████████████---------------| 71.9% Complete\n",
      "42 42ess: |████████████████████████████████████--------------| 73.7% Complete\n",
      "43 43ess: |█████████████████████████████████████-------------| 75.4% Complete\n",
      "44 44ess: |██████████████████████████████████████------------| 77.2% Complete\n",
      "45 45ess: |███████████████████████████████████████-----------| 78.9% Complete\n",
      "46 46ess: |████████████████████████████████████████----------| 80.7% Complete\n",
      "47 47ess: |█████████████████████████████████████████---------| 82.5% Complete\n",
      "48 48ess: |██████████████████████████████████████████--------| 84.2% Complete\n",
      "49 49ess: |██████████████████████████████████████████--------| 86.0% Complete\n",
      "50 50ess: |███████████████████████████████████████████-------| 87.7% Complete\n",
      "51 51ess: |████████████████████████████████████████████------| 89.5% Complete\n",
      "52 52ess: |█████████████████████████████████████████████-----| 91.2% Complete\n",
      "53 53ess: |██████████████████████████████████████████████----| 93.0% Complete\n",
      "54 54ess: |███████████████████████████████████████████████---| 94.7% Complete\n",
      "55 55ess: |████████████████████████████████████████████████--| 96.5% Complete\n",
      "56 56ess: |█████████████████████████████████████████████████-| 98.2% Complete\n",
      "Progress: |██████████████████████████████████████████████████| 100.0% Complete\n"
     ]
    }
   ],
   "source": [
    "import time\n",
    "\n",
    "# A List of Items\n",
    "items = list(range(0, 57))\n",
    "l = len(items)\n",
    "\n",
    "# Initial call to print 0% progress\n",
    "printProgressBar(0, l, prefix = 'Progress:', suffix = 'Complete', length = 50)\n",
    "for i, item in enumerate(items):\n",
    "    # Do stuff...\n",
    "    time.sleep(0.1)\n",
    "    # Update Progress Bar\n",
    "    printProgressBar(i + 1, l, prefix = 'Progress:', suffix = 'Complete', length = 50)"
   ]
  },
  {
   "cell_type": "code",
   "execution_count": null,
   "metadata": {},
   "outputs": [],
   "source": []
  }
 ],
 "metadata": {
  "kernelspec": {
   "display_name": "Python 3",
   "language": "python",
   "name": "python3"
  },
  "language_info": {
   "codemirror_mode": {
    "name": "ipython",
    "version": 3
   },
   "file_extension": ".py",
   "mimetype": "text/x-python",
   "name": "python",
   "nbconvert_exporter": "python",
   "pygments_lexer": "ipython3",
   "version": "3.11.3"
  }
 },
 "nbformat": 4,
 "nbformat_minor": 2
}
